{
  "nbformat": 4,
  "nbformat_minor": 0,
  "metadata": {
    "colab": {
      "provenance": []
    },
    "kernelspec": {
      "name": "python3",
      "display_name": "Python 3"
    },
    "language_info": {
      "name": "python"
    }
  },
  "cells": [
    {
      "cell_type": "code",
      "execution_count": 1,
      "metadata": {
        "id": "Tv6PsCLS4UM9"
      },
      "outputs": [],
      "source": [
        "import keras\n",
        "from keras.models import Sequential\n",
        "from keras.layers import Activation\n",
        "from keras.layers.core import Dense, Flatten\n",
        "from keras.layers.convolutional import *\n",
        "from keras.layers.pooling import *"
      ]
    },
    {
      "cell_type": "code",
      "source": [
        "model_valid = Sequential([\n",
        "    Dense(16, input_shape=(20,20,3), activation='relu'),\n",
        "    Conv2D(32, kernel_size=(3,3), activation='relu', padding='same'),\n",
        "    MaxPooling2D(pool_size=(2,2), strides=2, padding='valid'),\n",
        "    Conv2D(64, kernel_size=(5,5), activation='relu', padding='same'),\n",
        "    Flatten(),\n",
        "    Dense(2, activation='softmax')\n",
        "])"
      ],
      "metadata": {
        "id": "zEizQmn24759"
      },
      "execution_count": 2,
      "outputs": []
    }
  ]
}