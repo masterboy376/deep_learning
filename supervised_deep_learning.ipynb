{
  "nbformat": 4,
  "nbformat_minor": 0,
  "metadata": {
    "colab": {
      "provenance": []
    },
    "kernelspec": {
      "name": "python3",
      "display_name": "Python 3"
    },
    "language_info": {
      "name": "python"
    }
  },
  "cells": [
    {
      "cell_type": "code",
      "execution_count": null,
      "metadata": {
        "id": "SRXnRHqQqVNC"
      },
      "outputs": [],
      "source": [
        "import keras\n",
        "from keras.models import Sequential\n",
        "from keras.layers import Activation\n",
        "from keras.layers.core import Dense\n",
        "from keras.optimizers import Adam\n",
        "import numpy as np"
      ]
    },
    {
      "cell_type": "code",
      "source": [
        "model = Sequential([\n",
        "    Dense(units=16, input_shape=(2,), activation='relu'),\n",
        "    Dense(units=32, activation='relu'),\n",
        "    Dense(units=2, activation='sigmoid')\n",
        "])"
      ],
      "metadata": {
        "id": "-FLmykFIq_nr"
      },
      "execution_count": null,
      "outputs": []
    },
    {
      "cell_type": "code",
      "source": [
        "model.compile(\n",
        "    optimizer=Adam(learning_rate=0.0001),\n",
        "    loss='sparse_categorical_crossentropy',\n",
        "    metrics=['accuracy']\n",
        ")"
      ],
      "metadata": {
        "id": "B9X973dNrex1"
      },
      "execution_count": null,
      "outputs": []
    },
    {
      "cell_type": "code",
      "source": [
        "# weight, height\n",
        "train_samples = np.array([\n",
        "    [150, 67],\n",
        "    [130, 60],\n",
        "    [200, 65],\n",
        "    [125, 52],\n",
        "    [230, 72],\n",
        "    [181, 70]\n",
        "])"
      ],
      "metadata": {
        "id": "E8ikhCner7JB"
      },
      "execution_count": null,
      "outputs": []
    },
    {
      "cell_type": "code",
      "source": [
        "# 0: male\n",
        "# 1: female\n",
        "train_labels = np.array([1,1,0,1,0,0])"
      ],
      "metadata": {
        "id": "r6DYN90tsdFu"
      },
      "execution_count": null,
      "outputs": []
    },
    {
      "cell_type": "code",
      "source": [
        "model.fit(\n",
        "    x=train_samples,\n",
        "    y=train_labels,\n",
        "    batch_size=3,\n",
        "    epochs=10,\n",
        "    shuffle=True,\n",
        "    verbose=2\n",
        ")"
      ],
      "metadata": {
        "colab": {
          "base_uri": "https://localhost:8080/"
        },
        "id": "wrglx176srr9",
        "outputId": "6dbb1b64-5227-418a-ff77-833b396700e2"
      },
      "execution_count": null,
      "outputs": [
        {
          "output_type": "stream",
          "name": "stdout",
          "text": [
            "Epoch 1/10\n",
            "2/2 - 0s - loss: 6.3484 - accuracy: 0.5000 - 492ms/epoch - 246ms/step\n",
            "Epoch 2/10\n",
            "2/2 - 0s - loss: 6.1137 - accuracy: 0.5000 - 8ms/epoch - 4ms/step\n",
            "Epoch 3/10\n",
            "2/2 - 0s - loss: 5.6980 - accuracy: 0.5000 - 7ms/epoch - 4ms/step\n",
            "Epoch 4/10\n",
            "2/2 - 0s - loss: 5.4090 - accuracy: 0.5000 - 7ms/epoch - 3ms/step\n",
            "Epoch 5/10\n",
            "2/2 - 0s - loss: 5.1487 - accuracy: 0.5000 - 6ms/epoch - 3ms/step\n",
            "Epoch 6/10\n",
            "2/2 - 0s - loss: 4.7764 - accuracy: 0.5000 - 7ms/epoch - 3ms/step\n",
            "Epoch 7/10\n",
            "2/2 - 0s - loss: 4.5157 - accuracy: 0.5000 - 7ms/epoch - 3ms/step\n",
            "Epoch 8/10\n",
            "2/2 - 0s - loss: 4.1456 - accuracy: 0.5000 - 6ms/epoch - 3ms/step\n",
            "Epoch 9/10\n",
            "2/2 - 0s - loss: 3.8777 - accuracy: 0.5000 - 7ms/epoch - 4ms/step\n",
            "Epoch 10/10\n",
            "2/2 - 0s - loss: 3.5500 - accuracy: 0.5000 - 8ms/epoch - 4ms/step\n"
          ]
        },
        {
          "output_type": "execute_result",
          "data": {
            "text/plain": [
              "<keras.callbacks.History at 0x7f60a79ffc40>"
            ]
          },
          "metadata": {},
          "execution_count": 7
        }
      ]
    }
  ]
}