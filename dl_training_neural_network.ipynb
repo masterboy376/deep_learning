{
  "cells": [
    {
      "cell_type": "code",
      "execution_count": null,
      "metadata": {
        "id": "2Ycgdc0EL3qo"
      },
      "outputs": [],
      "source": [
        "# importing libraries\n",
        "import keras\n",
        "import numpy as np\n",
        "from keras.models import Sequential\n",
        "from keras.layers import Activation\n",
        "from keras.layers.core import Dense\n",
        "from keras.optimizers import Adam\n",
        "from keras.metrics import categorical_crossentropy"
      ]
    },
    {
      "cell_type": "code",
      "execution_count": null,
      "metadata": {
        "id": "TjnUITiTNb6o"
      },
      "outputs": [],
      "source": [
        "# creating network\n",
        "model = Sequential([\n",
        "    Dense(units=16, input_shape=(1,), activation='relu'),\n",
        "    Dense(units=32, activation='relu'),\n",
        "    Dense(units=2, activation='sigmoid')\n",
        "])"
      ]
    },
    {
      "cell_type": "code",
      "execution_count": null,
      "metadata": {
        "id": "xbntobSaNb10"
      },
      "outputs": [],
      "source": [
        "model.compile(\n",
        "    optimizer=Adam(learning_rate=0.0001), # Adam is just a variant of SDG\n",
        "    loss='sparse_categorical_crossentropy',\n",
        "    metrics=['accuracy']\n",
        ")"
      ]
    },
    {
      "cell_type": "code",
      "execution_count": null,
      "metadata": {
        "id": "PNpB7gTuQytV"
      },
      "outputs": [],
      "source": [
        "scaled_train_samples=np.array([0.1,0.2,0.3,0.4,0.5,0.6,0.7,0.8,0.9,0.15])\n",
        "train_labels=np.array([0.2,0.4,0.6,0.8,0.1,1.2,1.4,1.6,1.8,0.3])"
      ]
    },
    {
      "cell_type": "code",
      "execution_count": null,
      "metadata": {
        "colab": {
          "base_uri": "https://localhost:8080/"
        },
        "id": "PLErDPCzO9wT",
        "outputId": "8eb03945-b5ef-4962-a002-3f433f00e3d8"
      },
      "outputs": [
        {
          "output_type": "stream",
          "name": "stdout",
          "text": [
            "Epoch 1/20\n",
            "1/1 - 0s - loss: 0.6473 - accuracy: 0.0000e+00 - 17ms/epoch - 17ms/step\n",
            "Epoch 2/20\n",
            "1/1 - 0s - loss: 0.6472 - accuracy: 0.0000e+00 - 16ms/epoch - 16ms/step\n",
            "Epoch 3/20\n",
            "1/1 - 0s - loss: 0.6471 - accuracy: 0.0000e+00 - 14ms/epoch - 14ms/step\n",
            "Epoch 4/20\n",
            "1/1 - 0s - loss: 0.6470 - accuracy: 0.0000e+00 - 20ms/epoch - 20ms/step\n",
            "Epoch 5/20\n",
            "1/1 - 0s - loss: 0.6469 - accuracy: 0.0000e+00 - 15ms/epoch - 15ms/step\n",
            "Epoch 6/20\n",
            "1/1 - 0s - loss: 0.6468 - accuracy: 0.0000e+00 - 16ms/epoch - 16ms/step\n",
            "Epoch 7/20\n",
            "1/1 - 0s - loss: 0.6468 - accuracy: 0.0000e+00 - 26ms/epoch - 26ms/step\n",
            "Epoch 8/20\n",
            "1/1 - 0s - loss: 0.6467 - accuracy: 0.0000e+00 - 17ms/epoch - 17ms/step\n",
            "Epoch 9/20\n",
            "1/1 - 0s - loss: 0.6466 - accuracy: 0.0000e+00 - 21ms/epoch - 21ms/step\n",
            "Epoch 10/20\n",
            "1/1 - 0s - loss: 0.6465 - accuracy: 0.0000e+00 - 20ms/epoch - 20ms/step\n",
            "Epoch 11/20\n",
            "1/1 - 0s - loss: 0.6464 - accuracy: 0.0000e+00 - 17ms/epoch - 17ms/step\n",
            "Epoch 12/20\n",
            "1/1 - 0s - loss: 0.6463 - accuracy: 0.0000e+00 - 18ms/epoch - 18ms/step\n",
            "Epoch 13/20\n",
            "1/1 - 0s - loss: 0.6462 - accuracy: 0.0000e+00 - 16ms/epoch - 16ms/step\n",
            "Epoch 14/20\n",
            "1/1 - 0s - loss: 0.6461 - accuracy: 0.0000e+00 - 18ms/epoch - 18ms/step\n",
            "Epoch 15/20\n",
            "1/1 - 0s - loss: 0.6460 - accuracy: 0.0000e+00 - 15ms/epoch - 15ms/step\n",
            "Epoch 16/20\n",
            "1/1 - 0s - loss: 0.6459 - accuracy: 0.0000e+00 - 14ms/epoch - 14ms/step\n",
            "Epoch 17/20\n",
            "1/1 - 0s - loss: 0.6458 - accuracy: 0.0000e+00 - 14ms/epoch - 14ms/step\n",
            "Epoch 18/20\n",
            "1/1 - 0s - loss: 0.6457 - accuracy: 0.0000e+00 - 43ms/epoch - 43ms/step\n",
            "Epoch 19/20\n",
            "1/1 - 0s - loss: 0.6457 - accuracy: 0.0000e+00 - 45ms/epoch - 45ms/step\n",
            "Epoch 20/20\n",
            "1/1 - 0s - loss: 0.6456 - accuracy: 0.0000e+00 - 38ms/epoch - 38ms/step\n"
          ]
        },
        {
          "output_type": "execute_result",
          "data": {
            "text/plain": [
              "<keras.callbacks.History at 0x7f5437f94d30>"
            ]
          },
          "metadata": {},
          "execution_count": 15
        }
      ],
      "source": [
        "model.fit(\n",
        "    x=scaled_train_samples, # is a numpy array consisting of the training samples\n",
        "    y=train_labels, # is a numpy array consisting of the corresponding labels for the training samples\n",
        "    batch_size=10, # specifies how many training samples should be sent to the model at once\n",
        "    epochs=20, # complete training set (all of the samples) will be passed to the model a total of 20 times\n",
        "    shuffle=True, # indecates that the data should be shuffled before being passed to the model\n",
        "    verbose=2 # indicates how much logging we will see as the model trains\n",
        ")"
      ]
    },
    {
      "cell_type": "code",
      "source": [
        "scaled_test_samples=np.array([0.12,0.22,0.32,0.42,0.52,0.62,0.72,0.82,0.92,0.25])"
      ],
      "metadata": {
        "id": "hfKvlreGcjZH"
      },
      "execution_count": null,
      "outputs": []
    },
    {
      "cell_type": "code",
      "source": [
        "predictions = model.predict(\n",
        "    x=scaled_test_samples,\n",
        "    batch_size=10,\n",
        "    verbose=0\n",
        ")"
      ],
      "metadata": {
        "id": "Oh-hgEuIcxjK"
      },
      "execution_count": null,
      "outputs": []
    },
    {
      "cell_type": "code",
      "source": [
        "for p in predictions:\n",
        "  print(p)"
      ],
      "metadata": {
        "colab": {
          "base_uri": "https://localhost:8080/"
        },
        "id": "emi02cTqdHQW",
        "outputId": "4ef62d7d-15d3-4fdf-bf24-338a24effeac"
      },
      "execution_count": null,
      "outputs": [
        {
          "output_type": "stream",
          "name": "stdout",
          "text": [
            "[0.49197185 0.49918786]\n",
            "[0.48528475 0.49851108]\n",
            "[0.4786029 0.4978343]\n",
            "[0.47192866 0.4971575 ]\n",
            "[0.4652645  0.49648076]\n",
            "[0.45861265 0.49580398]\n",
            "[0.45197558 0.49512723]\n",
            "[0.4453555  0.49445054]\n",
            "[0.4387548  0.49377385]\n",
            "[0.48327953 0.49830803]\n"
          ]
        }
      ]
    }
  ],
  "metadata": {
    "colab": {
      "provenance": []
    },
    "kernelspec": {
      "display_name": "Python 3",
      "name": "python3"
    },
    "language_info": {
      "name": "python"
    }
  },
  "nbformat": 4,
  "nbformat_minor": 0
}