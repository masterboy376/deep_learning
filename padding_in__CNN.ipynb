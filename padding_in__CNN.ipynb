{
  "nbformat": 4,
  "nbformat_minor": 0,
  "metadata": {
    "colab": {
      "provenance": []
    },
    "kernelspec": {
      "name": "python3",
      "display_name": "Python 3"
    },
    "language_info": {
      "name": "python"
    }
  },
  "cells": [
    {
      "cell_type": "code",
      "execution_count": 1,
      "metadata": {
        "id": "IRov8gMCevFl"
      },
      "outputs": [],
      "source": [
        "import keras\n",
        "from keras.models import Sequential\n",
        "from keras.layers import Activation\n",
        "from keras.layers.core import Dense, Flatten\n",
        "from keras.layers.convolutional import *"
      ]
    },
    {
      "cell_type": "code",
      "source": [
        "# 'valid; padding\n",
        "model_valid = Sequential([\n",
        "    Dense(16, input_shape=(20,20,3), activation='relu'),\n",
        "    Conv2D(32, kernel_size=(3,3), activation='relu', padding='valid'),\n",
        "    Conv2D(64, kernel_size=(5,5), activation='relu', padding='valid'),\n",
        "    Conv2D(128, kernel_size=(7,7), activation='relu', padding='valid'),\n",
        "    Flatten(),\n",
        "    Dense(2, activation='softmax')\n",
        "])"
      ],
      "metadata": {
        "id": "Rgxf9Ce4e7zD"
      },
      "execution_count": 5,
      "outputs": []
    },
    {
      "cell_type": "code",
      "source": [
        "# 'same' padding\n",
        "model_same = Sequential([\n",
        "    Dense(16, input_shape=(20,20,3), activation='relu'),\n",
        "    Conv2D(32, kernel_size=(3,3), activation='relu', padding='same'),\n",
        "    Conv2D(64, kernel_size=(5,5), activation='relu', padding='same'),\n",
        "    Conv2D(128, kernel_size=(7,7), activation='relu', padding='same'),\n",
        "    Flatten(),\n",
        "    Dense(2, activation='softmax')\n",
        "])"
      ],
      "metadata": {
        "id": "EAC-bkFzfeMx"
      },
      "execution_count": 4,
      "outputs": []
    }
  ]
}