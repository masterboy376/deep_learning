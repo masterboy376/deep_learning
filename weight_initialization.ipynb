{
  "nbformat": 4,
  "nbformat_minor": 0,
  "metadata": {
    "colab": {
      "provenance": []
    },
    "kernelspec": {
      "name": "python3",
      "display_name": "Python 3"
    },
    "language_info": {
      "name": "python"
    }
  },
  "cells": [
    {
      "cell_type": "code",
      "execution_count": 2,
      "metadata": {
        "id": "4mXx3VEKKbT3"
      },
      "outputs": [],
      "source": [
        "from keras.models import Sequential\n",
        "from keras.layers import Dense, Activation\n",
        "\n",
        "model = Sequential([\n",
        "    Dense(16, input_shape=(1,5), activation='relu'),\n",
        "    Dense(32, activation=\"relu\", kernel_initializer='glorot_uniform'), \n",
        "    Dense(2, activation='softmax')\n",
        "])\n",
        "# glorot_uniform (default): xavier initialization using uniform distribution\n",
        "# glorot_normal: xavier initialization using normal distribution"
      ]
    }
  ]
}